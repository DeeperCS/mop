{
 "cells": [
  {
   "cell_type": "markdown",
   "metadata": {
    "collapsed": true
   },
   "source": [
    "### An example of Non-dominated sorting\n",
    "[DEAP - Distributed Evolutionary Algorithms in Python](https://github.com/DEAP/deap)"
   ]
  },
  {
   "cell_type": "code",
   "execution_count": 1,
   "metadata": {
    "collapsed": true
   },
   "outputs": [],
   "source": [
    "import math\n",
    "import random\n",
    "import array\n",
    "import numpy as np\n",
    "import matplotlib.pyplot as plt\n",
    "%matplotlib inline\n",
    "%config InlineBackend.figure_format = 'retina'\n",
    "plt.rc('text', usetex=True)\n",
    "plt.rc('font', family='serif')\n",
    "plt.rcParams['text.latex.preamble'] ='\\\\usepackage{libertine}\\n\\\\usepackage[utf8]{inputenc}'"
   ]
  },
  {
   "cell_type": "code",
   "execution_count": 2,
   "metadata": {
    "collapsed": true
   },
   "outputs": [],
   "source": [
    "from deap import tools, creator, base"
   ]
  },
  {
   "cell_type": "markdown",
   "metadata": {},
   "source": [
    "## an illustrative MOP problem: Dent\n",
    "\n",
    "$$\n",
    "\\begin{array}{rl}\n",
    "\\text{minimize} & f_1(\\vec{x}),f_2(\\vec{x}) \\\\\n",
    "\\text{such that} & f_1(\\vec{x}) = \\frac{1}{2}\\left( \\sqrt{1 + (x_1 + x_2)^2} + \\sqrt{1 + (x_1 - x_2)^2} + x_1 -x_2\\right) + d,\\\\\n",
    " & f_2(\\vec{x}) = \\frac{1}{2}\\left( \\sqrt{1 + (x_1 + x_2)^2} + \\sqrt{1 + (x_1 - x_2)^2} - x_1 + x_2\\right) + d,\\\\\n",
    "\\text{with}& d = \\lambda e^{-\\left(x_1-x_2\\right)^2}\\ (\\text{generally }\\lambda=0.85) \\text{ and } \\vec{x}\\in \\left[-1.5,1.5\\right]^2.\n",
    "\\end{array}\n",
    "$$"
   ]
  },
  {
   "cell_type": "code",
   "execution_count": 3,
   "metadata": {
    "collapsed": true
   },
   "outputs": [],
   "source": [
    "def dent(individual, labda=0.85):\n",
    "    x1 = individual[0]\n",
    "    x2 = individual[1]\n",
    "    \n",
    "    d = labda * math.exp(-(x1-x2)**2)\n",
    "    \n",
    "    f1 = 0.5 * (math.sqrt(1 + (x1 + x2)**2) + math.sqrt(1 + (x1 - x2)**2) + x1 - x2) + d\n",
    "    f2 = 0.5 * (math.sqrt(1 + (x1 + x2)**2) + math.sqrt(1 + (x1 - x2)**2) - x1 + x2) + d\n",
    "    return f1, f2"
   ]
  },
  {
   "cell_type": "markdown",
   "metadata": {},
   "source": [
    "## Non-dominated sorting"
   ]
  },
  {
   "cell_type": "code",
   "execution_count": 5,
   "metadata": {
    "collapsed": true
   },
   "outputs": [],
   "source": [
    "from collections import defaultdict"
   ]
  },
  {
   "cell_type": "code",
   "execution_count": 6,
   "metadata": {
    "collapsed": true
   },
   "outputs": [],
   "source": [
    "def nondominate_sorting(individuals, k):\n",
    "    map_fit_ind = defaultdict(list)\n",
    "    for ind in individuals:\n",
    "        map_fit_ind[ind.fitness].append(ind)\n",
    "    fits = map_fit_ind.keys()\n",
    "\n",
    "    f_set = []\n",
    "    for f in fits:\n",
    "        f_set.append(f)\n",
    "    fits = f_set\n",
    "    \n",
    "    current_front = []\n",
    "    next_front = []\n",
    "    dominating_fits = defaultdict(int)\n",
    "    dominated_fits = defaultdict(list)\n",
    "    \n",
    "    # first front\n",
    "    for i, fit_i in enumerate(fits):\n",
    "        for fit_j in fits[i+1:]:\n",
    "            if fit_i.dominates(fit_j):\n",
    "                dominating_fits[fit_j] += 1\n",
    "                dominated_fits[fit_i].append(fit_j)\n",
    "            elif fit_j.dominates(fit_i):\n",
    "                dominating_fits[fit_i] += 1\n",
    "                dominated_fits[fit_j].append(fit_i)\n",
    "        if dominating_fits[fit_i] == 0:\n",
    "            current_front.append(fit_i)\n",
    "    \n",
    "    fronts = [[]]\n",
    "    for fit in current_front:\n",
    "        fronts[-1].extend(map_fit_ind[fit])\n",
    "    pareto_sorted = len(fronts[-1])\n",
    "    \n",
    "    # other fronts\n",
    "    N = min(len(individuals), k)\n",
    "    while pareto_sorted < N:\n",
    "        fronts.append([])\n",
    "        for fit_p in current_front:\n",
    "            for fit_d in dominated_fits[fit_p]:\n",
    "                dominating_fits[fit_d] -= 1\n",
    "                if dominating_fits[fit_d] == 0:\n",
    "                    next_front.append(fit_d)\n",
    "                    pareto_sorted += len(map_fit_ind[fit_d])\n",
    "                    fronts[-1].extend(map_fit_ind[fit_d])\n",
    "        current_front = next_front\n",
    "        next_front = []\n",
    "    return fronts"
   ]
  },
  {
   "cell_type": "code",
   "execution_count": 7,
   "metadata": {},
   "outputs": [],
   "source": [
    "creator.create(\"FitnessMulti\", base.Fitness, weights=(-1.0, -1.0))\n",
    "creator.create(\"Individual\", list, fitness=creator.FitnessMulti)\n",
    "toolbox = base.Toolbox()\n",
    "\n",
    "def uniform(low, up, size=1):\n",
    "    return [random.uniform(a, b) for a, b in zip([low,]*size, [up,]*size)]\n",
    "\n",
    "BOUND_LOW = -1.5\n",
    "BOUND_UP = 1.5\n",
    "NDIM = 2\n",
    "toolbox.register('attr_float', uniform, BOUND_LOW, BOUND_UP, NDIM)\n",
    "toolbox.register('individual', tools.initIterate, creator.Individual, toolbox.attr_float)\n",
    "toolbox.register('population', tools.initRepeat, list, toolbox.individual)\n",
    "toolbox.register('evaluate', dent)\n",
    "\n",
    "num_samples = 4\n",
    "example_pop = toolbox.population(n=num_samples**NDIM)\n",
    "\n",
    "x_samples = np.arange(BOUND_LOW, BOUND_UP, (BOUND_UP-BOUND_LOW)/num_samples)\n",
    "y_samples = np.arange(BOUND_LOW, BOUND_UP, (BOUND_UP-BOUND_LOW)/num_samples)\n",
    "xx, yy = np.meshgrid(x_samples, y_samples)\n",
    "ind_samples = np.vstack((xx.flatten(), yy.flatten())).transpose()\n",
    "\n",
    "for i, ind in enumerate(example_pop):\n",
    "    ind[:] = ind_samples[i, :]\n",
    "    \n",
    "fitnesses = toolbox.map(toolbox.evaluate, example_pop)\n",
    "for ind, fit in zip(example_pop, fitnesses):\n",
    "    ind.fitness.values = fit"
   ]
  },
  {
   "cell_type": "code",
   "execution_count": 8,
   "metadata": {},
   "outputs": [],
   "source": [
    "fronts = nondominate_sorting(example_pop, k=len(example_pop))"
   ]
  },
  {
   "cell_type": "code",
   "execution_count": 9,
   "metadata": {},
   "outputs": [
    {
     "data": {
      "image/png": "[encoded data removed]",
      "text/plain": [
       "<matplotlib.figure.Figure at 0x1136a0cc0>"
      ]
     },
     "metadata": {
      "image/png": {
       "height": 316,
       "width": 1151
      }
     },
     "output_type": "display_data"
    }
   ],
   "source": [
    "plt.figure(figsize=(20, 5))\n",
    "plt.subplot(1, 4, 1)\n",
    "plt.title('First front')\n",
    "for ind in example_pop: plt.plot(ind.fitness.values[0], ind.fitness.values[1], 'k.', ms=3)\n",
    "for ind in fronts[0]: plt.plot(ind.fitness.values[0], ind.fitness.values[1], 'b.', ms=10)\n",
    "    \n",
    "plt.subplot(1, 4, 2)\n",
    "plt.title('Second front')\n",
    "for ind in example_pop: plt.plot(ind.fitness.values[0], ind.fitness.values[1], 'k.', ms=3)\n",
    "for ind in fronts[0]: plt.plot(ind.fitness.values[0], ind.fitness.values[1], 'b.', ms=3)\n",
    "for ind in fronts[1]: plt.plot(ind.fitness.values[0], ind.fitness.values[1], 'r.', ms=10)\n",
    "    \n",
    "plt.subplot(1, 4, 3)\n",
    "plt.title('Third front')\n",
    "for ind in example_pop: plt.plot(ind.fitness.values[0], ind.fitness.values[1], 'k.', ms=3)\n",
    "for ind in fronts[0]: plt.plot(ind.fitness.values[0], ind.fitness.values[1], 'b.', ms=3)\n",
    "for ind in fronts[1]: plt.plot(ind.fitness.values[0], ind.fitness.values[1], 'r.', ms=3)\n",
    "for ind in fronts[2]: plt.plot(ind.fitness.values[0], ind.fitness.values[1], 'g.', ms=10)\n",
    "    \n",
    "plt.subplot(1, 4, 4)\n",
    "plt.title('fourth front')\n",
    "for ind in example_pop: plt.plot(ind.fitness.values[0], ind.fitness.values[1], 'k.', ms=3)\n",
    "for ind in fronts[0]: plt.plot(ind.fitness.values[0], ind.fitness.values[1], 'b.', ms=3)\n",
    "for ind in fronts[1]: plt.plot(ind.fitness.values[0], ind.fitness.values[1], 'r.', ms=3)\n",
    "for ind in fronts[2]: plt.plot(ind.fitness.values[0], ind.fitness.values[1], 'g.', ms=3)\n",
    "for ind in fronts[3]: plt.plot(ind.fitness.values[0], ind.fitness.values[1], 'c.', ms=10)"
   ]
  }
 ],
 "metadata": {
  "kernelspec": {
   "display_name": "Python 3",
   "language": "python",
   "name": "python3"
  },
  "language_info": {
   "codemirror_mode": {
    "name": "ipython",
    "version": 3
   },
   "file_extension": ".py",
   "mimetype": "text/x-python",
   "name": "python",
   "nbconvert_exporter": "python",
   "pygments_lexer": "ipython3",
   "version": "3.6.2"
  }
 },
 "nbformat": 4,
 "nbformat_minor": 2
}
