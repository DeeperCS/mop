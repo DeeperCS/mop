{
 "cells": [
  {
   "cell_type": "markdown",
   "metadata": {},
   "source": [
    "### This notebook is target to explore the mechanism of Fitness class in DEAP\n",
    "[DEAP - Distributed Evolutionary Algorithms in Python](https://github.com/DEAP/deap)"
   ]
  },
  {
   "cell_type": "code",
   "execution_count": 1,
   "metadata": {
    "collapsed": true
   },
   "outputs": [],
   "source": [
    "from deap import tools, creator, base\n",
    "import pdb\n",
    "from operator import mul, truediv\n",
    "from collections import Sequence"
   ]
  },
  {
   "cell_type": "code",
   "execution_count": 2,
   "metadata": {
    "collapsed": true
   },
   "outputs": [],
   "source": [
    "class Fitness(object):\n",
    "    \"\"\"The fitness is a measure of quality of a solution. If *values* are\n",
    "    provided as a tuple, the fitness is initalized using those values,\n",
    "    otherwise it is empty (or invalid).\n",
    "\n",
    "    :param values: The initial values of the fitness as a tuple, optional.\n",
    "\n",
    "    Fitnesses may be compared using the ``>``, ``<``, ``>=``, ``<=``, ``==``,\n",
    "    ``!=``. The comparison of those operators is made lexicographically.\n",
    "    Maximization and minimization are taken care off by a multiplication\n",
    "    between the :attr:`weights` and the fitness :attr:`values`. The comparison\n",
    "    can be made between fitnesses of different size, if the fitnesses are\n",
    "    equal until the extra elements, the longer fitness will be superior to the\n",
    "    shorter.\n",
    "\n",
    "    Different types of fitnesses are created in the :ref:`creating-types`\n",
    "    tutorial.\n",
    "\n",
    "    .. note::\n",
    "       When comparing fitness values that are **minimized**, ``a > b`` will\n",
    "       return :data:`True` if *a* is **smaller** than *b*.\n",
    "    \"\"\"\n",
    "\n",
    "    weights = None\n",
    "    \"\"\"The weights are used in the fitness comparison. They are shared among\n",
    "    all fitnesses of the same type. When subclassing :class:`Fitness`, the\n",
    "    weights must be defined as a tuple where each element is associated to an\n",
    "    objective. A negative weight element corresponds to the minimization of\n",
    "    the associated objective and positive weight to the maximization.\n",
    "\n",
    "    .. note::\n",
    "        If weights is not defined during subclassing, the following error will\n",
    "        occur at instantiation of a subclass fitness object:\n",
    "\n",
    "        ``TypeError: Can't instantiate abstract <class Fitness[...]> with\n",
    "        abstract attribute weights.``\n",
    "    \"\"\"\n",
    "\n",
    "    wvalues = ()\n",
    "    \"\"\"Contains the weighted values of the fitness, the multiplication with the\n",
    "    weights is made when the values are set via the property :attr:`values`.\n",
    "    Multiplication is made on setting of the values for efficiency.\n",
    "\n",
    "    Generally it is unnecessary to manipulate wvalues as it is an internal\n",
    "    attribute of the fitness used in the comparison operators.\n",
    "    \"\"\"\n",
    "\n",
    "    def __init__(self, values=()):\n",
    "        pdb.set_trace()\n",
    "        if self.weights is None:\n",
    "            raise TypeError(\"Can't instantiate abstract %r with abstract \"\n",
    "                            \"attribute weights.\" % (self.__class__))\n",
    "\n",
    "        if not isinstance(self.weights, Sequence):\n",
    "            raise TypeError(\"Attribute weights of %r must be a sequence.\"\n",
    "                            % self.__class__)\n",
    "\n",
    "        if len(values) > 0:\n",
    "            self.values = values\n",
    "\n",
    "    def getValues(self):\n",
    "        return tuple(map(truediv, self.wvalues, self.weights))\n",
    "\n",
    "    def setValues(self, values):\n",
    "        pdb.set_trace()\n",
    "        try:\n",
    "            self.wvalues = tuple(map(mul, values, self.weights))\n",
    "        except TypeError:\n",
    "            _, _, traceback = sys.exc_info()\n",
    "\n",
    "    def delValues(self):\n",
    "        self.wvalues = ()\n",
    "\n",
    "    values = property(getValues, setValues, delValues,\n",
    "                      (\"Fitness values. Use directly ``individual.fitness.values = values`` \"\n",
    "                       \"in order to set the fitness and ``del individual.fitness.values`` \"\n",
    "                       \"in order to clear (invalidate) the fitness. The (unweighted) fitness \"\n",
    "                       \"can be directly accessed via ``individual.fitness.values``.\"))\n",
    "\n",
    "    def dominates(self, other, obj=slice(None)):\n",
    "        \"\"\"Return true if each objective of *self* is not strictly worse than\n",
    "        the corresponding objective of *other* and at least one objective is\n",
    "        strictly better.\n",
    "\n",
    "        :param obj: Slice indicating on which objectives the domination is\n",
    "                    tested. The default value is `slice(None)`, representing\n",
    "                    every objectives.\n",
    "        \"\"\"\n",
    "        not_equal = False\n",
    "        for self_wvalue, other_wvalue in zip(self.wvalues[obj], other.wvalues[obj]):\n",
    "            if self_wvalue > other_wvalue:\n",
    "                not_equal = True\n",
    "            elif self_wvalue < other_wvalue:\n",
    "                return False\n",
    "        return not_equal\n",
    "\n",
    "    @property\n",
    "    def valid(self):\n",
    "        \"\"\"Assess if a fitness is valid or not.\"\"\"\n",
    "        return len(self.wvalues) != 0\n",
    "\n",
    "    def __hash__(self):\n",
    "        return hash(self.wvalues)\n",
    "\n",
    "    def __gt__(self, other):\n",
    "        return not self.__le__(other)\n",
    "\n",
    "    def __ge__(self, other):\n",
    "        return not self.__lt__(other)\n",
    "\n",
    "    def __le__(self, other):\n",
    "        pdb.set_trace()\n",
    "        return self.wvalues <= other.wvalues\n",
    "\n",
    "    def __lt__(self, other):\n",
    "        pdb.set_trace()\n",
    "        return self.wvalues < other.wvalues\n",
    "\n",
    "    def __eq__(self, other):\n",
    "        return self.wvalues == other.wvalues\n",
    "\n",
    "    def __ne__(self, other):\n",
    "        return not self.__eq__(other)\n",
    "\n",
    "    def __deepcopy__(self, memo):\n",
    "        \"\"\"Replace the basic deepcopy function with a faster one.\n",
    "\n",
    "        It assumes that the elements in the :attr:`values` tuple are\n",
    "        immutable and the fitness does not contain any other object\n",
    "        than :attr:`values` and :attr:`weights`.\n",
    "        \"\"\"\n",
    "        copy_ = self.__class__()\n",
    "        copy_.wvalues = self.wvalues\n",
    "        return copy_\n",
    "\n",
    "    def __str__(self):\n",
    "        \"\"\"Return the values of the Fitness object.\"\"\"\n",
    "        return str(self.values if self.valid else tuple())\n",
    "\n",
    "    def __repr__(self):\n",
    "        \"\"\"Return the Python code to build a copy of the object.\"\"\"\n",
    "        return \"%s.%s(%r)\" % (self.__module__, self.__class__.__name__,\n",
    "                              self.values if self.valid else tuple())"
   ]
  },
  {
   "cell_type": "markdown",
   "metadata": {},
   "source": [
    "## Single-objective fitness"
   ]
  },
  {
   "cell_type": "code",
   "execution_count": 3,
   "metadata": {},
   "outputs": [],
   "source": [
    "creator.create(\"Fitness\", Fitness, weights=(-1.0,))\n",
    "creator.create(\"Individual\", list, fitness=creator.Fitness)"
   ]
  },
  {
   "cell_type": "code",
   "execution_count": 4,
   "metadata": {
    "collapsed": true
   },
   "outputs": [],
   "source": [
    "# trivial evluation function\n",
    "def evaluate(individual):\n",
    "    return 1,\n",
    "\n",
    "# trivial initialization function\n",
    "def constant(n):\n",
    "    return n,"
   ]
  },
  {
   "cell_type": "code",
   "execution_count": 5,
   "metadata": {
    "collapsed": true
   },
   "outputs": [],
   "source": [
    "toolbox = base.Toolbox()\n",
    "toolbox.register(\"attr\", constant, 1)\n",
    "toolbox.register(\"individual\", tools.initIterate, creator.Individual, toolbox.attr)\n",
    "toolbox.register(\"evaluate\", evaluate)"
   ]
  },
  {
   "cell_type": "code",
   "execution_count": 6,
   "metadata": {},
   "outputs": [
    {
     "name": "stdout",
     "output_type": "stream",
     "text": [
      "> <ipython-input-2-6b5fb5797020>(50)__init__()\n",
      "-> if self.weights is None:\n",
      "(Pdb) c\n",
      "> <ipython-input-2-6b5fb5797020>(50)__init__()\n",
      "-> if self.weights is None:\n",
      "(Pdb) c\n"
     ]
    }
   ],
   "source": [
    "# initialization (__init__)\n",
    "ind1 = toolbox.individual()\n",
    "ind2 = toolbox.individual()"
   ]
  },
  {
   "cell_type": "code",
   "execution_count": 7,
   "metadata": {},
   "outputs": [
    {
     "name": "stdout",
     "output_type": "stream",
     "text": [
      "> <ipython-input-2-6b5fb5797020>(66)setValues()\n",
      "-> try:\n",
      "(Pdb) c\n",
      "> <ipython-input-2-6b5fb5797020>(66)setValues()\n",
      "-> try:\n",
      "(Pdb) c\n"
     ]
    }
   ],
   "source": [
    "# trivial assignment of fitness (setValues() of Fitness class will be called)\n",
    "ind1.fitness.values = toolbox.evaluate(ind1)\n",
    "ind2.fitness.values = toolbox.evaluate(ind2)"
   ]
  },
  {
   "cell_type": "markdown",
   "metadata": {},
   "source": [
    "### Manually assign the fitnesses"
   ]
  },
  {
   "cell_type": "code",
   "execution_count": 8,
   "metadata": {},
   "outputs": [
    {
     "name": "stdout",
     "output_type": "stream",
     "text": [
      "> <ipython-input-2-6b5fb5797020>(66)setValues()\n",
      "-> try:\n",
      "(Pdb) c\n",
      "> <ipython-input-2-6b5fb5797020>(66)setValues()\n",
      "-> try:\n",
      "(Pdb) c\n"
     ]
    }
   ],
   "source": [
    "# setValue() function of Fitness class will be called\n",
    "ind1.fitness.values = (6,)\n",
    "ind2.fitness.values = (3,)"
   ]
  },
  {
   "cell_type": "markdown",
   "metadata": {},
   "source": [
    "### Fitness comparsion (comparing weighted fitness implicitly)"
   ]
  },
  {
   "cell_type": "code",
   "execution_count": 9,
   "metadata": {},
   "outputs": [
    {
     "name": "stdout",
     "output_type": "stream",
     "text": [
      "> <ipython-input-2-6b5fb5797020>(117)__lt__()\n",
      "-> return self.wvalues < other.wvalues\n",
      "(Pdb) c\n",
      "comparing fitness (6.0,) < (3.0,) : True\n",
      "Actually, it is comparing weighted fitness (-6.0,) < (-3.0,) : True\n"
     ]
    }
   ],
   "source": [
    "# it is actually comparing the weighted fitness\n",
    "result = ind1.fitness < ind2.fitness\n",
    "print('comparing fitness {} < {} : {}'.format(ind1.fitness, ind2.fitness, result))\n",
    "print('Actually, it is comparing weighted fitness {} < {} : {}'.format(ind1.fitness.wvalues, ind2.fitness.wvalues, result))"
   ]
  },
  {
   "cell_type": "markdown",
   "metadata": {},
   "source": [
    "### Max comparison (calling le function implicitly)"
   ]
  },
  {
   "cell_type": "code",
   "execution_count": 10,
   "metadata": {},
   "outputs": [
    {
     "name": "stdout",
     "output_type": "stream",
     "text": [
      "> <ipython-input-2-6b5fb5797020>(113)__le__()\n",
      "-> return self.wvalues <= other.wvalues\n",
      "(Pdb) c\n",
      "return of max((6.0,) < (3.0,)) : (3.0,)\n",
      "Actually, it equals to max((-6.0,) < (-3.0,)) : (3.0,)\n"
     ]
    }
   ],
   "source": [
    "result = max(ind1.fitness, ind2.fitness)\n",
    "print('return of max({} < {}) : {}'.format(ind1.fitness, ind2.fitness, result))\n",
    "print('Actually, it equals to max({} < {}) : {}'.format(ind1.fitness.wvalues, ind2.fitness.wvalues, result))"
   ]
  },
  {
   "cell_type": "markdown",
   "metadata": {},
   "source": [
    "# Multi-objective fitness"
   ]
  },
  {
   "cell_type": "code",
   "execution_count": 11,
   "metadata": {},
   "outputs": [
    {
     "name": "stderr",
     "output_type": "stream",
     "text": [
      "/Users/yao/anaconda3/lib/python3.6/site-packages/deap-1.1.0-py3.6-macosx-10.9-x86_64.egg/deap/creator.py:141: RuntimeWarning: A class named 'Fitness' has already been created and it will be overwritten. Consider deleting previous creation of that class or rename it.\n",
      "  RuntimeWarning)\n",
      "/Users/yao/anaconda3/lib/python3.6/site-packages/deap-1.1.0-py3.6-macosx-10.9-x86_64.egg/deap/creator.py:141: RuntimeWarning: A class named 'Individual' has already been created and it will be overwritten. Consider deleting previous creation of that class or rename it.\n",
      "  RuntimeWarning)\n"
     ]
    }
   ],
   "source": [
    "creator.create(\"Fitness\", Fitness, weights=(-1.0, 1.0))\n",
    "creator.create(\"Individual\", list, fitness=creator.Fitness)"
   ]
  },
  {
   "cell_type": "code",
   "execution_count": 12,
   "metadata": {
    "collapsed": true
   },
   "outputs": [],
   "source": [
    "# trivial evluation function\n",
    "def evaluate(individual):\n",
    "    return 1, 1\n",
    "\n",
    "# trivial initialization function\n",
    "def constant(n):\n",
    "    return n,"
   ]
  },
  {
   "cell_type": "code",
   "execution_count": 13,
   "metadata": {
    "collapsed": true
   },
   "outputs": [],
   "source": [
    "toolbox = base.Toolbox()\n",
    "toolbox.register(\"attr\", constant, 1)\n",
    "toolbox.register(\"individual\", tools.initIterate, creator.Individual, toolbox.attr)\n",
    "toolbox.register(\"evaluate\", evaluate)"
   ]
  },
  {
   "cell_type": "markdown",
   "metadata": {},
   "source": [
    "###  __init__() function of Fitness class will be processed by using registered toolbox"
   ]
  },
  {
   "cell_type": "code",
   "execution_count": 14,
   "metadata": {},
   "outputs": [
    {
     "name": "stdout",
     "output_type": "stream",
     "text": [
      "> <ipython-input-2-6b5fb5797020>(50)__init__()\n",
      "-> if self.weights is None:\n",
      "(Pdb) c\n",
      "> <ipython-input-2-6b5fb5797020>(50)__init__()\n",
      "-> if self.weights is None:\n",
      "(Pdb) c\n"
     ]
    }
   ],
   "source": [
    "ind1 = toolbox.individual()\n",
    "ind2 = toolbox.individual()"
   ]
  },
  {
   "cell_type": "markdown",
   "metadata": {},
   "source": [
    "###  setValues() function of Fitness class will be processed when the fitness is assigned as follows, also:\n",
    "- Raw *fitness* will be multipled with its specified property of *weights* [e.g. (-1.0, 1)] here\n",
    "- Then stored as *self.wvalues*  (weighted fitness)\n",
    "- Thus you can optimize a *maximization* problem with *weight* of 1.0\n",
    "- And a *minimization* problem with weight of -1.0"
   ]
  },
  {
   "cell_type": "code",
   "execution_count": 15,
   "metadata": {},
   "outputs": [
    {
     "name": "stdout",
     "output_type": "stream",
     "text": [
      "> <ipython-input-2-6b5fb5797020>(66)setValues()\n",
      "-> try:\n",
      "(Pdb) c\n",
      "> <ipython-input-2-6b5fb5797020>(66)setValues()\n",
      "-> try:\n",
      "(Pdb) c\n"
     ]
    }
   ],
   "source": [
    "# trivial assignmnet of fitness\n",
    "ind1.fitness.values = toolbox.evaluate(ind1)\n",
    "ind2.fitness.values = toolbox.evaluate(ind2)"
   ]
  },
  {
   "cell_type": "markdown",
   "metadata": {},
   "source": [
    "### Manually assigment of fitness to show domination"
   ]
  },
  {
   "cell_type": "code",
   "execution_count": 16,
   "metadata": {},
   "outputs": [
    {
     "name": "stdout",
     "output_type": "stream",
     "text": [
      "> <ipython-input-2-6b5fb5797020>(66)setValues()\n",
      "-> try:\n",
      "(Pdb) c\n",
      "> <ipython-input-2-6b5fb5797020>(66)setValues()\n",
      "-> try:\n",
      "(Pdb) c\n"
     ]
    }
   ],
   "source": [
    "# ind1 dominates ind2 in terms of fitness\n",
    "ind1.fitness.values = (3, 9)\n",
    "ind2.fitness.values = (7, 8)"
   ]
  },
  {
   "cell_type": "code",
   "execution_count": 17,
   "metadata": {},
   "outputs": [
    {
     "name": "stdout",
     "output_type": "stream",
     "text": [
      "(3.0, 9.0) dominates (7.0, 8.0): True\n",
      "Cause: first objective: -3.0>-7.0:True, and second objective: 9.0>8.0:True\n",
      "Thus, (7.0, 8.0) dominates (3.0, 9.0): False\n"
     ]
    }
   ],
   "source": [
    "# note that we use weights (-1.0, 1.0)\n",
    "# it means to minimize the first objective and maximize the second objective\n",
    "print('{} dominates {}:'.format(ind1.fitness.values, ind2.fitness.values), ind1.fitness.dominates(ind2.fitness))\n",
    "print('Cause: first objective: {}>{}:{}, and second objective: {}>{}:{}'.format(ind1.fitness.wvalues[0], ind2.fitness.wvalues[0],\n",
    "                                                                                ind1.fitness.wvalues[0] > ind2.fitness.wvalues[0],\n",
    "                                                                         ind1.fitness.wvalues[1], ind2.fitness.wvalues[1],\n",
    "                                                                               ind1.fitness.wvalues[1] > ind2.fitness.wvalues[1]))\n",
    "print('Thus, {} dominates {}:'.format(ind2.fitness.values, ind1.fitness.values), ind2.fitness.dominates(ind1.fitness))"
   ]
  },
  {
   "cell_type": "code",
   "execution_count": 18,
   "metadata": {},
   "outputs": [
    {
     "name": "stdout",
     "output_type": "stream",
     "text": [
      "> <ipython-input-2-6b5fb5797020>(66)setValues()\n",
      "-> try:\n",
      "(Pdb) c\n",
      "> <ipython-input-2-6b5fb5797020>(66)setValues()\n",
      "-> try:\n",
      "(Pdb) c\n",
      "(8.0, 9.0) dominates (7.0, 8.0): False\n",
      "Cause: first objective: -8.0>-7.0:False, and second objective: 9.0>8.0:True\n",
      "Thus, (7.0, 8.0) dominates (8.0, 9.0): False\n"
     ]
    }
   ],
   "source": [
    "# ind1 and ind2 are non-dominated to each other in terms of fitness\n",
    "ind1.fitness.values = (8, 9)\n",
    "ind2.fitness.values = (7, 8)\n",
    "\n",
    "# note that we use weights (-1.0, 1.0)\n",
    "# it means to minimize the first objective and maximize the second objective\n",
    "print('{} dominates {}:'.format(ind1.fitness.values, ind2.fitness.values), ind1.fitness.dominates(ind2.fitness))\n",
    "\n",
    "print('Cause: first objective: {}>{}:{}, and second objective: {}>{}:{}'.format(ind1.fitness.wvalues[0], ind2.fitness.wvalues[0],\n",
    "                                                                                ind1.fitness.wvalues[0] > ind2.fitness.wvalues[0],\n",
    "                                                                         ind1.fitness.wvalues[1], ind2.fitness.wvalues[1],\n",
    "                                                                               ind1.fitness.wvalues[1] > ind2.fitness.wvalues[1]))\n",
    "\n",
    "print('Thus, {} dominates {}:'.format(ind2.fitness.values, ind1.fitness.values), ind2.fitness.dominates(ind1.fitness))"
   ]
  }
 ],
 "metadata": {
  "kernelspec": {
   "display_name": "Python 3",
   "language": "python",
   "name": "python3"
  },
  "language_info": {
   "codemirror_mode": {
    "name": "ipython",
    "version": 3
   },
   "file_extension": ".py",
   "mimetype": "text/x-python",
   "name": "python",
   "nbconvert_exporter": "python",
   "pygments_lexer": "ipython3",
   "version": "3.6.2"
  }
 },
 "nbformat": 4,
 "nbformat_minor": 2
}
